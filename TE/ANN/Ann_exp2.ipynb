{
 "cells": [
  {
   "cell_type": "markdown",
   "id": "ecb91037-810f-41e7-8906-f632a796b886",
   "metadata": {},
   "source": [
    "#### Exp 2 : Generate ANDNOT Gate using McCulloch Pitts neural model"
   ]
  },
  {
   "cell_type": "code",
   "execution_count": 1,
   "id": "e0a139fb-7258-4fcd-bfea-b418363acc3e",
   "metadata": {},
   "outputs": [],
   "source": [
    "import numpy as np"
   ]
  },
  {
   "cell_type": "code",
   "execution_count": 2,
   "id": "f11d3042-8491-4f38-8ab0-abc317f1c098",
   "metadata": {},
   "outputs": [],
   "source": [
    "# Define McCulloch-Pitts neuron\n",
    "def mp_neuron(inputs, weights, threshold):\n",
    "    net = np.dot(inputs, weights)\n",
    "    if net >= threshold:\n",
    "        return 1 \n",
    "    else:\n",
    "        return 0"
   ]
  },
  {
   "cell_type": "code",
   "execution_count": 3,
   "id": "3e01492d-e3cd-48d9-9463-98483e895741",
   "metadata": {},
   "outputs": [],
   "source": [
    "# Define ANDNOT Neural Network (A AND NOT B)\n",
    "def andnot_nn(inputs):\n",
    "    weights = [1, -1]      # Implements A AND NOT B\n",
    "    threshold = 1\n",
    "    return mp_neuron(inputs, weights, threshold)"
   ]
  },
  {
   "cell_type": "code",
   "execution_count": 4,
   "id": "074c4684-9855-4aa1-a5f1-18a869657285",
   "metadata": {},
   "outputs": [
    {
     "name": "stdout",
     "output_type": "stream",
     "text": [
      "Inputs : [[0 0]\n",
      " [0 1]\n",
      " [1 0]\n",
      " [1 1]]\n",
      "Outputs: [0, 0, 1, 0]\n"
     ]
    }
   ],
   "source": [
    "# Test inputs\n",
    "inputs = np.array([[0, 0], [0, 1], [1, 0], [1, 1]])\n",
    "outputs = []\n",
    "\n",
    "# Compute outputs\n",
    "for i in range(inputs.shape[0]):\n",
    "    y = andnot_nn(inputs[i])  # <-- FIX: no reshape here\n",
    "    outputs.append(y)\n",
    "\n",
    "print(\"Inputs :\", inputs)\n",
    "print(\"Outputs:\", outputs)"
   ]
  },
  {
   "cell_type": "code",
   "execution_count": null,
   "id": "a344279a-8cc2-45f5-a32c-63f54b6be529",
   "metadata": {},
   "outputs": [],
   "source": []
  },
  {
   "cell_type": "code",
   "execution_count": null,
   "id": "1b300d0b-a4af-49e8-844e-f33d65faac7c",
   "metadata": {},
   "outputs": [],
   "source": []
  },
  {
   "cell_type": "code",
   "execution_count": null,
   "id": "b36736e8-526e-4580-850d-7431dc2fd264",
   "metadata": {},
   "outputs": [],
   "source": []
  }
 ],
 "metadata": {
  "kernelspec": {
   "display_name": "Python 3 (ipykernel)",
   "language": "python",
   "name": "python3"
  },
  "language_info": {
   "codemirror_mode": {
    "name": "ipython",
    "version": 3
   },
   "file_extension": ".py",
   "mimetype": "text/x-python",
   "name": "python",
   "nbconvert_exporter": "python",
   "pygments_lexer": "ipython3",
   "version": "3.12.7"
  }
 },
 "nbformat": 4,
 "nbformat_minor": 5
}
