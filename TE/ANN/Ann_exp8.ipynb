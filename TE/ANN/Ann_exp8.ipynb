{
 "cells": [
  {
   "cell_type": "markdown",
   "id": "46b90394-33bd-4aa1-9846-57344bce66cd",
   "metadata": {},
   "source": [
    "#### Exp 8 : Hopefield Network that stores 4 Vectors"
   ]
  },
  {
   "cell_type": "code",
   "execution_count": 1,
   "id": "dcd8c43d-08f5-40b0-a717-9f0d57db4aa8",
   "metadata": {},
   "outputs": [
    {
     "name": "stdout",
     "output_type": "stream",
     "text": [
      "Recalled Pattern:\n",
      "[[ 1  1  1]\n",
      " [ 1 -1  1]\n",
      " [ 1  1  1]]\n"
     ]
    }
   ],
   "source": [
    "import numpy as np\n",
    "\n",
    "# Convert binary (0, 1) to bipolar (-1, 1)\n",
    "def binary_to_bipolar(data):\n",
    "    return np.where(data == 0, -1, 1)\n",
    "\n",
    "# Sign function for recall\n",
    "def sign(x):\n",
    "    return np.where(x >= 0, 1, -1)\n",
    "\n",
    "# Define 4 binary patterns of length 9 (3x3)\n",
    "patterns = np.array([\n",
    "    [1, 0, 1,\n",
    "     0, 1, 0,\n",
    "     1, 0, 1],\n",
    "\n",
    "    [0, 1, 0,\n",
    "     1, 0, 1,\n",
    "     0, 1, 0],\n",
    "\n",
    "    [1, 1, 1,\n",
    "     1, 0, 1,\n",
    "     1, 1, 1],\n",
    "\n",
    "    [0, 0, 0,\n",
    "     0, 1, 0,\n",
    "     0, 0, 0]\n",
    "])\n",
    "\n",
    "# Convert to bipolar form\n",
    "patterns_bipolar = binary_to_bipolar(patterns)\n",
    "\n",
    "# Number of neurons\n",
    "n = patterns.shape[1]\n",
    "\n",
    "# Initialize weight matrix\n",
    "W = np.zeros((n, n))\n",
    "\n",
    "# Hebbian Learning Rule\n",
    "for p in patterns_bipolar:\n",
    "    W += np.outer(p, p)\n",
    "\n",
    "# No self-connections\n",
    "np.fill_diagonal(W, 0)\n",
    "\n",
    "# Function to recall pattern\n",
    "def recall(input_pattern, steps=5):\n",
    "    pattern = input_pattern.copy()\n",
    "    for _ in range(steps):\n",
    "        pattern = sign(np.dot(W, pattern))\n",
    "    return pattern\n",
    "\n",
    "# ---- Test Recall ----\n",
    "test_input = binary_to_bipolar(np.array([1, 1, 1,\n",
    "                                         0, 0, 0,\n",
    "                                         1, 1, 1]))  # slightly noisy version of pattern 3\n",
    "\n",
    "recalled = recall(test_input)\n",
    "\n",
    "# Print recalled pattern in 3x3 grid\n",
    "print(\"Recalled Pattern:\")\n",
    "print(recalled.reshape((3, 3)))\n"
   ]
  }
 ],
 "metadata": {
  "kernelspec": {
   "display_name": "Python 3 (ipykernel)",
   "language": "python",
   "name": "python3"
  },
  "language_info": {
   "codemirror_mode": {
    "name": "ipython",
    "version": 3
   },
   "file_extension": ".py",
   "mimetype": "text/x-python",
   "name": "python",
   "nbconvert_exporter": "python",
   "pygments_lexer": "ipython3",
   "version": "3.12.7"
  }
 },
 "nbformat": 4,
 "nbformat_minor": 5
}
