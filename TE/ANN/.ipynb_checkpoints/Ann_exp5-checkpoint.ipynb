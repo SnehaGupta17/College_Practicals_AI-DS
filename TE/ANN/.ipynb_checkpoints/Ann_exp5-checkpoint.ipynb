{
 "cells": [
  {
   "cell_type": "markdown",
   "id": "964ac6b6-bf9a-4132-a69e-6d1f22e3a532",
   "metadata": {},
   "source": [
    "#### Exp 5 : Bidirectional Associative Memory with two pairs of vectors"
   ]
  },
  {
   "cell_type": "code",
   "execution_count": 1,
   "id": "40888c78-de47-4e7e-a2cf-925c89c9313e",
   "metadata": {},
   "outputs": [
    {
     "name": "stdout",
     "output_type": "stream",
     "text": [
      "Weight Matrix:\n",
      " [[-2  2]\n",
      " [ 0  0]\n",
      " [ 0  0]]\n",
      "\n",
      "--- Forward Recall (A -> B) ---\n",
      "Recall B from A1: [-1  1]\n",
      "Recall B from A2: [ 1 -1]\n",
      "\n",
      "--- Backward Recall (B -> A) ---\n",
      "Recall A from B1: [1 1 1]\n",
      "Recall A from B2: [-1  1  1]\n"
     ]
    }
   ],
   "source": [
    "import numpy as np\n",
    "\n",
    "# Sign function with 0 treated as 1\n",
    "def sign(x):\n",
    "    return np.where(x >= 0, 1, -1)\n",
    "\n",
    "# Step 1: Define input-output pattern pairs (binary -1, 1)\n",
    "A1 = np.array([1, -1, 1])\n",
    "B1 = np.array([-1, 1])\n",
    "A2 = np.array([-1, -1, 1])\n",
    "B2 = np.array([1, -1])\n",
    "\n",
    "# Step 2: Compute weight matrix using Hebbian learning\n",
    "W = np.outer(A1, B1) + np.outer(A2, B2)\n",
    "\n",
    "# Step 3: Recall using bidirectional memory\n",
    "\n",
    "# Forward Recall\n",
    "def recall_B(A_input):\n",
    "    return sign(np.dot(A_input, W))\n",
    "\n",
    "# Backward Recall\n",
    "def recall_A(B_input):\n",
    "    return sign(np.dot(B_input, W.T))\n",
    "\n",
    "# Optional: Iterative bidirectional recall for stability\n",
    "def iterative_recall(A_init, W, steps=5):\n",
    "    A = A_init.copy()\n",
    "    for _ in range(steps):\n",
    "        B = sign(np.dot(A, W))\n",
    "        A = sign(np.dot(B, W.T))\n",
    "    return A, B\n",
    "\n",
    "# Testing\n",
    "print(\"Weight Matrix:\\n\", W)\n",
    "\n",
    "print(\"\\n--- Forward Recall (A -> B) ---\")\n",
    "B_out1 = recall_B(A1)\n",
    "B_out2 = recall_B(A2)\n",
    "print(\"Recall B from A1:\", B_out1)\n",
    "print(\"Recall B from A2:\", B_out2)\n",
    "\n",
    "print(\"\\n--- Backward Recall (B -> A) ---\")\n",
    "A_out1 = recall_A(B1)\n",
    "A_out2 = recall_A(B2)\n",
    "print(\"Recall A from B1:\", A_out1)\n",
    "print(\"Recall A from B2:\", A_out2)\n"
   ]
  }
 ],
 "metadata": {
  "kernelspec": {
   "display_name": "Python 3 (ipykernel)",
   "language": "python",
   "name": "python3"
  },
  "language_info": {
   "codemirror_mode": {
    "name": "ipython",
    "version": 3
   },
   "file_extension": ".py",
   "mimetype": "text/x-python",
   "name": "python",
   "nbconvert_exporter": "python",
   "pygments_lexer": "ipython3",
   "version": "3.12.7"
  }
 },
 "nbformat": 4,
 "nbformat_minor": 5
}
