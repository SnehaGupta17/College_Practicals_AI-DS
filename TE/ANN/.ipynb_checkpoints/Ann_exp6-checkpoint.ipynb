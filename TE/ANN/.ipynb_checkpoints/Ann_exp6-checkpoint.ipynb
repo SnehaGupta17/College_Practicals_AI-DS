{
 "cells": [
  {
   "cell_type": "markdown",
   "id": "fc108f04-e312-4ff8-9a00-58bc492e7f57",
   "metadata": {},
   "source": [
    "#### Exp 6 : Artificial Neural Network Training using Forward Propagation and Back Propagation "
   ]
  },
  {
   "cell_type": "code",
   "execution_count": 1,
   "id": "b95a4481-26fb-4ba8-86a3-d632bbbd2716",
   "metadata": {},
   "outputs": [
    {
     "name": "stdout",
     "output_type": "stream",
     "text": [
      "Epoch 0, Loss: 0.2832\n",
      "Epoch 1000, Loss: 0.2452\n",
      "Epoch 2000, Loss: 0.2124\n",
      "Epoch 3000, Loss: 0.1503\n",
      "Epoch 4000, Loss: 0.0572\n",
      "Epoch 5000, Loss: 0.0209\n",
      "Epoch 6000, Loss: 0.0107\n",
      "Epoch 7000, Loss: 0.0067\n",
      "Epoch 8000, Loss: 0.0047\n",
      "Epoch 9000, Loss: 0.0035\n",
      "\n",
      "Final Predictions after training:\n",
      "Input: [0 0], Predicted: 0.0373, Target: 0\n",
      "Input: [0 1], Predicted: 0.9491, Target: 1\n",
      "Input: [1 0], Predicted: 0.9448, Target: 1\n",
      "Input: [1 1], Predicted: 0.0643, Target: 0\n"
     ]
    }
   ],
   "source": [
    "import numpy as np\n",
    "\n",
    "# Activation function: Sigmoid and its derivative\n",
    "def sigmoid(x):\n",
    "    return 1 / (1 + np.exp(-x))\n",
    "\n",
    "def sigmoid_derivative(x):\n",
    "    return x * (1 - x)  # where x is already sigmoid(x)\n",
    "\n",
    "# Input and output data (XOR logic gate for example)\n",
    "X = np.array([\n",
    "    [0, 0],\n",
    "    [0, 1],\n",
    "    [1, 0],\n",
    "    [1, 1]\n",
    "])\n",
    "\n",
    "y = np.array([\n",
    "    [0],\n",
    "    [1],\n",
    "    [1],\n",
    "    [0]\n",
    "])\n",
    "\n",
    "# Set seed for reproducibility\n",
    "np.random.seed(42)\n",
    "\n",
    "# Initialize weights and biases\n",
    "input_size = 2\n",
    "hidden_size = 4\n",
    "output_size = 1\n",
    "\n",
    "# Random weights and biases\n",
    "W1 = np.random.randn(input_size, hidden_size)\n",
    "b1 = np.zeros((1, hidden_size))\n",
    "W2 = np.random.randn(hidden_size, output_size)\n",
    "b2 = np.zeros((1, output_size))\n",
    "\n",
    "# Training parameters\n",
    "epochs = 10000\n",
    "learning_rate = 0.1\n",
    "\n",
    "# Training loop\n",
    "for epoch in range(epochs):\n",
    "    # ---- Forward Propagation ----\n",
    "    z1 = np.dot(X, W1) + b1\n",
    "    a1 = sigmoid(z1)\n",
    "\n",
    "    z2 = np.dot(a1, W2) + b2\n",
    "    a2 = sigmoid(z2)  # final output\n",
    "\n",
    "    # ---- Backpropagation ----\n",
    "    error = y - a2\n",
    "    d_output = error * sigmoid_derivative(a2)\n",
    "\n",
    "    error_hidden = d_output.dot(W2.T)\n",
    "    d_hidden = error_hidden * sigmoid_derivative(a1)\n",
    "\n",
    "    # ---- Update Weights and Biases ----\n",
    "    W2 += a1.T.dot(d_output) * learning_rate\n",
    "    b2 += np.sum(d_output, axis=0, keepdims=True) * learning_rate\n",
    "    W1 += X.T.dot(d_hidden) * learning_rate\n",
    "    b1 += np.sum(d_hidden, axis=0, keepdims=True) * learning_rate\n",
    "\n",
    "    # Optional: Print loss every 1000 epochs\n",
    "    if epoch % 1000 == 0:\n",
    "        loss = np.mean(np.square(error))\n",
    "        print(f\"Epoch {epoch}, Loss: {loss:.4f}\")\n",
    "\n",
    "# ---- Final Output ----\n",
    "print(\"\\nFinal Predictions after training:\")\n",
    "for i, x in enumerate(X):\n",
    "    print(f\"Input: {x}, Predicted: {a2[i][0]:.4f}, Target: {y[i][0]}\")\n"
   ]
  }
 ],
 "metadata": {
  "kernelspec": {
   "display_name": "Python 3 (ipykernel)",
   "language": "python",
   "name": "python3"
  },
  "language_info": {
   "codemirror_mode": {
    "name": "ipython",
    "version": 3
   },
   "file_extension": ".py",
   "mimetype": "text/x-python",
   "name": "python",
   "nbconvert_exporter": "python",
   "pygments_lexer": "ipython3",
   "version": "3.12.7"
  }
 },
 "nbformat": 4,
 "nbformat_minor": 5
}
