{
 "cells": [
  {
   "cell_type": "markdown",
   "id": "85883615-7b67-4d95-9108-298e6c269aba",
   "metadata": {},
   "source": [
    "#### Exp 7 : Back Propagation Network for XOR Function for Binary Input and Output "
   ]
  },
  {
   "cell_type": "code",
   "execution_count": 5,
   "id": "38c5eb16-ebaa-4b3d-92db-a0051ba2c159",
   "metadata": {},
   "outputs": [
    {
     "name": "stdout",
     "output_type": "stream",
     "text": [
      "Epoch 0 - Loss: 0.2863\n",
      "Epoch 1000 - Loss: 0.2424\n",
      "Epoch 2000 - Loss: 0.0098\n",
      "Epoch 3000 - Loss: 0.0035\n",
      "Epoch 4000 - Loss: 0.0021\n",
      "Epoch 5000 - Loss: 0.0015\n",
      "Epoch 6000 - Loss: 0.0011\n",
      "Epoch 7000 - Loss: 0.0009\n",
      "Epoch 8000 - Loss: 0.0008\n",
      "Epoch 9000 - Loss: 0.0007\n",
      "\n",
      "Final Predictions for XOR:\n",
      "Input: [0 0] -> Predicted: 0.0230, Target: 0\n",
      "Input: [0 1] -> Predicted: 0.9742, Target: 1\n",
      "Input: [1 0] -> Predicted: 0.9742, Target: 1\n",
      "Input: [1 1] -> Predicted: 0.0208, Target: 0\n"
     ]
    }
   ],
   "source": [
    "import numpy as np\n",
    "\n",
    "# Sigmoid activation function and its derivative\n",
    "def sigmoid(x):\n",
    "    return 1 / (1 + np.exp(-x))\n",
    "\n",
    "def sigmoid_derivative(output):\n",
    "    return output * (1 - output)\n",
    "\n",
    "# XOR input and output (binary)\n",
    "X = np.array([\n",
    "    [0, 0],\n",
    "    [0, 1],\n",
    "    [1, 0],\n",
    "    [1, 1]\n",
    "])\n",
    "\n",
    "y = np.array([\n",
    "    [0],\n",
    "    [1],\n",
    "    [1],\n",
    "    [0]\n",
    "])\n",
    "\n",
    "# Seed for reproducibility\n",
    "np.random.seed(42)\n",
    "\n",
    "# Initialize parameters\n",
    "input_size = 2\n",
    "hidden_size = 2\n",
    "output_size = 1\n",
    "learning_rate = 0.5\n",
    "epochs = 10000\n",
    "\n",
    "# Weights and biases\n",
    "W1 = np.random.uniform(-1, 1, (input_size, hidden_size))\n",
    "b1 = np.zeros((1, hidden_size))\n",
    "\n",
    "W2 = np.random.uniform(-1, 1, (hidden_size, output_size))\n",
    "b2 = np.zeros((1, output_size))\n",
    "\n",
    "# Training with backpropagation\n",
    "for epoch in range(epochs):\n",
    "    # ---- Forward Pass ----\n",
    "    z1 = np.dot(X, W1) + b1\n",
    "    a1 = sigmoid(z1)\n",
    "\n",
    "    z2 = np.dot(a1, W2) + b2\n",
    "    a2 = sigmoid(z2)\n",
    "\n",
    "    # ---- Backward Pass ----\n",
    "    error = y - a2\n",
    "    d_output = error * sigmoid_derivative(a2)\n",
    "\n",
    "    error_hidden = d_output.dot(W2.T)\n",
    "    d_hidden = error_hidden * sigmoid_derivative(a1)\n",
    "\n",
    "    # ---- Update Weights and Biases ----\n",
    "    W2 += a1.T.dot(d_output) * learning_rate\n",
    "    b2 += np.sum(d_output, axis=0, keepdims=True) * learning_rate\n",
    "\n",
    "    W1 += X.T.dot(d_hidden) * learning_rate\n",
    "    b1 += np.sum(d_hidden, axis=0, keepdims=True) * learning_rate\n",
    "\n",
    "    if epoch % 1000 == 0:\n",
    "        loss = np.mean(np.square(error))\n",
    "        print(f\"Epoch {epoch} - Loss: {loss:.4f}\")\n",
    "\n",
    "# ---- Final Output ----\n",
    "print(\"\\nFinal Predictions for XOR:\")\n",
    "for i in range(len(X)):\n",
    "    print(f\"Input: {X[i]} -> Predicted: {a2[i][0]:.4f}, Target: {y[i][0]}\")\n"
   ]
  },
  {
   "cell_type": "code",
   "execution_count": null,
   "id": "3e5aa248-3c52-419d-bb7c-fab99b97acd0",
   "metadata": {},
   "outputs": [],
   "source": []
  }
 ],
 "metadata": {
  "kernelspec": {
   "display_name": "Python 3 (ipykernel)",
   "language": "python",
   "name": "python3"
  },
  "language_info": {
   "codemirror_mode": {
    "name": "ipython",
    "version": 3
   },
   "file_extension": ".py",
   "mimetype": "text/x-python",
   "name": "python",
   "nbconvert_exporter": "python",
   "pygments_lexer": "ipython3",
   "version": "3.12.7"
  }
 },
 "nbformat": 4,
 "nbformat_minor": 5
}
