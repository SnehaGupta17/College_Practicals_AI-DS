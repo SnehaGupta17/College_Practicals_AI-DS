{
 "cells": [
  {
   "cell_type": "markdown",
   "id": "9ed359ab-c4b6-4a00-946e-46c194c69f83",
   "metadata": {},
   "source": [
    "#### Exp 3 : Perceptron Neural Network to recognise even and odd numbers "
   ]
  },
  {
   "cell_type": "code",
   "execution_count": 1,
   "id": "c2c74967-1148-4de3-8928-db3c20a52392",
   "metadata": {},
   "outputs": [],
   "source": [
    "import numpy as np\n",
    "\n",
    "#Define input data and target values\n",
    "\n",
    "input_data = np.array([[1,1,1,0,1,1,1], #0\n",
    "          [0,0,1,0,0,1,0], # 1\n",
    "          [1,0,1,1,1,0,1], #2\n",
    "          [1,0,1,1,0,1,1], #3\n",
    "          [0,1,1,1,0,1,0], #4\n",
    "          [1,1,0,1,0,1,1], # 5\n",
    "          [1,1,0,1,1,1,1], #6 \n",
    "          [1,0,1,0,0,1,0], #7\n",
    "          [1,1,1,1,1,1,1], # 8\n",
    "          [1,1,1,1,0,1,1]]) #9\n",
    "\n",
    "target_values = np.array([[1,0], # Even\n",
    "                        [0,1], # Odd\n",
    "                        [1,0], # Even\n",
    "                        [0,1], # Odd\n",
    "                        [1,0], # Even\n",
    "                        [0,1], # Odd\n",
    "                        [1,0], # Even\n",
    "                        [0,1], # Odd\n",
    "                        [1,0], #Even\n",
    "                        [0,1]]) # Odd\n"
   ]
  },
  {
   "cell_type": "code",
   "execution_count": 2,
   "id": "0615caa6-4c83-48c1-9971-5447305271b6",
   "metadata": {},
   "outputs": [],
   "source": [
    "# Define the Perceptron Neural Network class\n",
    "\n",
    "class PerceptronNN:\n",
    "    def __init__(self, num_inputs, num_outputs):\n",
    "        self.weights = np.zeros((num_inputs, num_outputs))\n",
    "        self.bias = np.zeros(num_outputs)\n",
    "    def activation(self, x):\n",
    "        return 1 if x>0 else 0\n",
    "    def feedforward(self, inputs):\n",
    "        net = np.dot(inputs, self.weights) + self.bias\n",
    "        output = np.array([self.activation(x) for x in net])\n",
    "        return output\n",
    "    \n",
    "    def train(self, input_data, target_values, learning_rate, epochs):\n",
    "        for epoch in range(epochs):\n",
    "            errors = 0\n",
    "            for i, input in enumerate(input_data):\n",
    "                target = target_values[i]\n",
    "                output = self.feedforward(input)\n",
    "                error = target - output\n",
    "                self.weights += learning_rate * np.outer(input, error)\n",
    "                self.bias += learning_rate * error\n",
    "                errors += np.abs(error).sum()"
   ]
  },
  {
   "cell_type": "code",
   "execution_count": 3,
   "id": "296dd36a-eefb-4c45-b73f-510e7c5aaa2a",
   "metadata": {},
   "outputs": [
    {
     "name": "stdout",
     "output_type": "stream",
     "text": [
      "Odd\n",
      "Even\n",
      "Even\n"
     ]
    }
   ],
   "source": [
    "#Train the Perceptron Neural Network\n",
    "\n",
    "perceptron_nn = PerceptronNN(num_inputs=7, num_outputs=2)\n",
    "perceptron_nn.train(input_data, target_values,learning_rate=0.1, epochs=100)\n",
    "\n",
    "#Test the Perceptron Neural Network on some sample inputs\n",
    "\n",
    "input_test = np.array([[1,1,0,1,0,1,1], # 5\n",
    "                       [1,1,1,0,1,1,1], # 0\n",
    "                       [1,1,1,1,1,1,1]]) #8\n",
    "\n",
    "for input in input_test:\n",
    "    output = perceptron_nn.feedforward(input) \n",
    "    if output[0] == 1:\n",
    "        print(\"Even\")\n",
    "    else:\n",
    "        print(\"Odd\")"
   ]
  }
 ],
 "metadata": {
  "kernelspec": {
   "display_name": "Python 3 (ipykernel)",
   "language": "python",
   "name": "python3"
  },
  "language_info": {
   "codemirror_mode": {
    "name": "ipython",
    "version": 3
   },
   "file_extension": ".py",
   "mimetype": "text/x-python",
   "name": "python",
   "nbconvert_exporter": "python",
   "pygments_lexer": "ipython3",
   "version": "3.12.7"
  }
 },
 "nbformat": 4,
 "nbformat_minor": 5
}
