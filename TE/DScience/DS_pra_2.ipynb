{
 "cells": [
  {
   "cell_type": "markdown",
   "id": "bece72bf-4bbd-4305-a2c3-48f1dc6f8bd2",
   "metadata": {},
   "source": [
    "#### Import all the required Python Libraries."
   ]
  },
  {
   "cell_type": "code",
   "execution_count": 1,
   "id": "993707c6-4143-40a9-8498-350558026b18",
   "metadata": {},
   "outputs": [],
   "source": [
    "import pandas as pd\n",
    "import numpy as np\n",
    "import matplotlib.pyplot as plt\n",
    "import seaborn as sns\n",
    "from scipy import stats\n",
    "from sklearn.preprocessing import MinMaxScaler\n",
    "\n",
    "#to ignore warnings\n",
    "import warnings\n",
    "warnings.filterwarnings('ignore')\n"
   ]
  },
  {
   "cell_type": "markdown",
   "id": "da37025e-d473-45d6-b2b0-7fd546a287ed",
   "metadata": {},
   "source": [
    "#### Create an “Academic performance” dataset of students"
   ]
  },
  {
   "cell_type": "code",
   "execution_count": 2,
   "id": "b08dacbd-3d7c-4c09-9171-359184ab48fd",
   "metadata": {},
   "outputs": [],
   "source": [
    "data = {\n",
    "    'Student_ID': range(1, 21),\n",
    "    'Name': ['Alice', 'Bob', 'Charlie', 'David', 'Eva', 'Frank', 'Grace', 'Hannah', 'Ivy', 'Jack', \n",
    "             'Kate', 'Leo', 'Mia', 'Nina', 'Oscar', 'Paul', 'Quincy', 'Rachel', 'Steve', 'Tina'],\n",
    "    'Age': [20, 21, 22, 23, 20, 21, 22, 18, 20, 21, 22, 23, 20, 20, 21, 22, 19, 23, 20, 21],\n",
    "    'Gender': ['Female', 'Male', 'Male', 'Male', 'Female', 'Male', 'Female', 'Female', 'Male', 'Male',\n",
    "               'Female', 'Male', 'Female', 'Female', 'Male', 'Female', 'Male', 'Female', 'Male', 'Female'],\n",
    "    'Course': ['Math', 'Science', 'Engineering', 'Arts', 'Literature', 'Math', 'Science', 'Engineering', \n",
    "               'Math', 'Literature', 'Arts', 'Science', 'Math', 'Arts', 'Literature', 'Engineering', \n",
    "               'Math', 'Literature', 'Science', 'Arts'],\n",
    "    'Grade': [85, 92, 78, 88, 91, np.nan, 80, 75, 89, 90, 82, 87, np.nan, 95, 91, 85, 87, 93, np.nan, 88],\n",
    "    'Attendance': [90, 85, 95, 80, 88, 92, np.nan, 85, 90, 80, 75, 85, 92, 95, 90, np.nan, 82, 90, 95, 88],\n",
    "    'Study_Hours': [15, 10, 20, 12, 18, 14, 16, 10, 15, 12, 18, 14, np.nan, 13, 19, 17, 15, np.nan, 12, 14]\n",
    "}"
   ]
  },
  {
   "cell_type": "code",
   "execution_count": 3,
   "id": "b73a2859-1347-48ce-bdb2-6b0b99b22038",
   "metadata": {},
   "outputs": [],
   "source": [
    "stud_data = pd.DataFrame(data)"
   ]
  },
  {
   "cell_type": "code",
   "execution_count": 4,
   "id": "4ed302be-5b2c-4436-a0cf-c6630a658d50",
   "metadata": {},
   "outputs": [
    {
     "data": {
      "text/html": [
       "<div>\n",
       "<style scoped>\n",
       "    .dataframe tbody tr th:only-of-type {\n",
       "        vertical-align: middle;\n",
       "    }\n",
       "\n",
       "    .dataframe tbody tr th {\n",
       "        vertical-align: top;\n",
       "    }\n",
       "\n",
       "    .dataframe thead th {\n",
       "        text-align: right;\n",
       "    }\n",
       "</style>\n",
       "<table border=\"1\" class=\"dataframe\">\n",
       "  <thead>\n",
       "    <tr style=\"text-align: right;\">\n",
       "      <th></th>\n",
       "      <th>Student_ID</th>\n",
       "      <th>Name</th>\n",
       "      <th>Age</th>\n",
       "      <th>Gender</th>\n",
       "      <th>Course</th>\n",
       "      <th>Grade</th>\n",
       "      <th>Attendance</th>\n",
       "      <th>Study_Hours</th>\n",
       "    </tr>\n",
       "  </thead>\n",
       "  <tbody>\n",
       "    <tr>\n",
       "      <th>0</th>\n",
       "      <td>1</td>\n",
       "      <td>Alice</td>\n",
       "      <td>20</td>\n",
       "      <td>Female</td>\n",
       "      <td>Math</td>\n",
       "      <td>85.0</td>\n",
       "      <td>90.0</td>\n",
       "      <td>15.0</td>\n",
       "    </tr>\n",
       "    <tr>\n",
       "      <th>1</th>\n",
       "      <td>2</td>\n",
       "      <td>Bob</td>\n",
       "      <td>21</td>\n",
       "      <td>Male</td>\n",
       "      <td>Science</td>\n",
       "      <td>92.0</td>\n",
       "      <td>85.0</td>\n",
       "      <td>10.0</td>\n",
       "    </tr>\n",
       "    <tr>\n",
       "      <th>2</th>\n",
       "      <td>3</td>\n",
       "      <td>Charlie</td>\n",
       "      <td>22</td>\n",
       "      <td>Male</td>\n",
       "      <td>Engineering</td>\n",
       "      <td>78.0</td>\n",
       "      <td>95.0</td>\n",
       "      <td>20.0</td>\n",
       "    </tr>\n",
       "    <tr>\n",
       "      <th>3</th>\n",
       "      <td>4</td>\n",
       "      <td>David</td>\n",
       "      <td>23</td>\n",
       "      <td>Male</td>\n",
       "      <td>Arts</td>\n",
       "      <td>88.0</td>\n",
       "      <td>80.0</td>\n",
       "      <td>12.0</td>\n",
       "    </tr>\n",
       "    <tr>\n",
       "      <th>4</th>\n",
       "      <td>5</td>\n",
       "      <td>Eva</td>\n",
       "      <td>20</td>\n",
       "      <td>Female</td>\n",
       "      <td>Literature</td>\n",
       "      <td>91.0</td>\n",
       "      <td>88.0</td>\n",
       "      <td>18.0</td>\n",
       "    </tr>\n",
       "  </tbody>\n",
       "</table>\n",
       "</div>"
      ],
      "text/plain": [
       "   Student_ID     Name  Age  Gender       Course  Grade  Attendance  \\\n",
       "0           1    Alice   20  Female         Math   85.0        90.0   \n",
       "1           2      Bob   21    Male      Science   92.0        85.0   \n",
       "2           3  Charlie   22    Male  Engineering   78.0        95.0   \n",
       "3           4    David   23    Male         Arts   88.0        80.0   \n",
       "4           5      Eva   20  Female   Literature   91.0        88.0   \n",
       "\n",
       "   Study_Hours  \n",
       "0         15.0  \n",
       "1         10.0  \n",
       "2         20.0  \n",
       "3         12.0  \n",
       "4         18.0  "
      ]
     },
     "execution_count": 4,
     "metadata": {},
     "output_type": "execute_result"
    }
   ],
   "source": [
    "stud_data.head()"
   ]
  },
  {
   "cell_type": "markdown",
   "id": "8d10bb0d-a530-4be8-9406-bbe7d5d3891c",
   "metadata": {},
   "source": [
    "#### 1.Scan all variables for missing values and inconsistencies. If there are missing values and/or inconsistencies, use any of the suitable techniques to deal with them"
   ]
  },
  {
   "cell_type": "code",
   "execution_count": 5,
   "id": "8c027ef2-45a8-45f7-b2d3-68724bf562d1",
   "metadata": {},
   "outputs": [
    {
     "data": {
      "text/plain": [
       "Student_ID     0\n",
       "Name           0\n",
       "Age            0\n",
       "Gender         0\n",
       "Course         0\n",
       "Grade          3\n",
       "Attendance     2\n",
       "Study_Hours    2\n",
       "dtype: int64"
      ]
     },
     "execution_count": 5,
     "metadata": {},
     "output_type": "execute_result"
    }
   ],
   "source": [
    "stud_data.isnull().sum()"
   ]
  },
  {
   "cell_type": "code",
   "execution_count": 6,
   "id": "a500b51a-a1c9-4132-8ffb-fbdc4364b995",
   "metadata": {},
   "outputs": [
    {
     "data": {
      "text/html": [
       "<div>\n",
       "<style scoped>\n",
       "    .dataframe tbody tr th:only-of-type {\n",
       "        vertical-align: middle;\n",
       "    }\n",
       "\n",
       "    .dataframe tbody tr th {\n",
       "        vertical-align: top;\n",
       "    }\n",
       "\n",
       "    .dataframe thead th {\n",
       "        text-align: right;\n",
       "    }\n",
       "</style>\n",
       "<table border=\"1\" class=\"dataframe\">\n",
       "  <thead>\n",
       "    <tr style=\"text-align: right;\">\n",
       "      <th></th>\n",
       "      <th>Student_ID</th>\n",
       "      <th>Age</th>\n",
       "      <th>Grade</th>\n",
       "      <th>Attendance</th>\n",
       "      <th>Study_Hours</th>\n",
       "    </tr>\n",
       "  </thead>\n",
       "  <tbody>\n",
       "    <tr>\n",
       "      <th>count</th>\n",
       "      <td>20.00000</td>\n",
       "      <td>20.000000</td>\n",
       "      <td>17.000000</td>\n",
       "      <td>18.000000</td>\n",
       "      <td>18.000000</td>\n",
       "    </tr>\n",
       "    <tr>\n",
       "      <th>mean</th>\n",
       "      <td>10.50000</td>\n",
       "      <td>20.950000</td>\n",
       "      <td>86.823529</td>\n",
       "      <td>87.611111</td>\n",
       "      <td>14.666667</td>\n",
       "    </tr>\n",
       "    <tr>\n",
       "      <th>std</th>\n",
       "      <td>5.91608</td>\n",
       "      <td>1.356272</td>\n",
       "      <td>5.468493</td>\n",
       "      <td>5.699731</td>\n",
       "      <td>2.930569</td>\n",
       "    </tr>\n",
       "    <tr>\n",
       "      <th>min</th>\n",
       "      <td>1.00000</td>\n",
       "      <td>18.000000</td>\n",
       "      <td>75.000000</td>\n",
       "      <td>75.000000</td>\n",
       "      <td>10.000000</td>\n",
       "    </tr>\n",
       "    <tr>\n",
       "      <th>25%</th>\n",
       "      <td>5.75000</td>\n",
       "      <td>20.000000</td>\n",
       "      <td>85.000000</td>\n",
       "      <td>85.000000</td>\n",
       "      <td>12.250000</td>\n",
       "    </tr>\n",
       "    <tr>\n",
       "      <th>50%</th>\n",
       "      <td>10.50000</td>\n",
       "      <td>21.000000</td>\n",
       "      <td>88.000000</td>\n",
       "      <td>89.000000</td>\n",
       "      <td>14.500000</td>\n",
       "    </tr>\n",
       "    <tr>\n",
       "      <th>75%</th>\n",
       "      <td>15.25000</td>\n",
       "      <td>22.000000</td>\n",
       "      <td>91.000000</td>\n",
       "      <td>91.500000</td>\n",
       "      <td>16.750000</td>\n",
       "    </tr>\n",
       "    <tr>\n",
       "      <th>max</th>\n",
       "      <td>20.00000</td>\n",
       "      <td>23.000000</td>\n",
       "      <td>95.000000</td>\n",
       "      <td>95.000000</td>\n",
       "      <td>20.000000</td>\n",
       "    </tr>\n",
       "  </tbody>\n",
       "</table>\n",
       "</div>"
      ],
      "text/plain": [
       "       Student_ID        Age      Grade  Attendance  Study_Hours\n",
       "count    20.00000  20.000000  17.000000   18.000000    18.000000\n",
       "mean     10.50000  20.950000  86.823529   87.611111    14.666667\n",
       "std       5.91608   1.356272   5.468493    5.699731     2.930569\n",
       "min       1.00000  18.000000  75.000000   75.000000    10.000000\n",
       "25%       5.75000  20.000000  85.000000   85.000000    12.250000\n",
       "50%      10.50000  21.000000  88.000000   89.000000    14.500000\n",
       "75%      15.25000  22.000000  91.000000   91.500000    16.750000\n",
       "max      20.00000  23.000000  95.000000   95.000000    20.000000"
      ]
     },
     "execution_count": 6,
     "metadata": {},
     "output_type": "execute_result"
    }
   ],
   "source": [
    "stud_data.describe()"
   ]
  },
  {
   "cell_type": "code",
   "execution_count": 7,
   "id": "5462514a-b669-44e0-9533-ade96dc2c373",
   "metadata": {},
   "outputs": [
    {
     "data": {
      "text/plain": [
       "Student_ID       int64\n",
       "Name            object\n",
       "Age              int64\n",
       "Gender          object\n",
       "Course          object\n",
       "Grade          float64\n",
       "Attendance     float64\n",
       "Study_Hours    float64\n",
       "dtype: object"
      ]
     },
     "execution_count": 7,
     "metadata": {},
     "output_type": "execute_result"
    }
   ],
   "source": [
    "stud_data.dtypes"
   ]
  },
  {
   "cell_type": "code",
   "execution_count": 8,
   "id": "cbc28164-8199-4f15-b3f1-0c08b0c07ad9",
   "metadata": {},
   "outputs": [],
   "source": [
    "stud_data['Grade'].fillna(stud_data['Grade'].median(), inplace=True)             # Fill missing with median\n",
    "stud_data['Study_Hours'].fillna(stud_data['Study_Hours'].median(), inplace=True) \n",
    "stud_data['Attendance'].fillna(stud_data['Attendance'].mode()[0], inplace=True)  # Fill missing with mode"
   ]
  },
  {
   "cell_type": "code",
   "execution_count": 9,
   "id": "5e346ca7-29d9-411f-ad94-d71782d1f5b7",
   "metadata": {},
   "outputs": [
    {
     "data": {
      "text/html": [
       "<div>\n",
       "<style scoped>\n",
       "    .dataframe tbody tr th:only-of-type {\n",
       "        vertical-align: middle;\n",
       "    }\n",
       "\n",
       "    .dataframe tbody tr th {\n",
       "        vertical-align: top;\n",
       "    }\n",
       "\n",
       "    .dataframe thead th {\n",
       "        text-align: right;\n",
       "    }\n",
       "</style>\n",
       "<table border=\"1\" class=\"dataframe\">\n",
       "  <thead>\n",
       "    <tr style=\"text-align: right;\">\n",
       "      <th></th>\n",
       "      <th>Student_ID</th>\n",
       "      <th>Name</th>\n",
       "      <th>Age</th>\n",
       "      <th>Gender</th>\n",
       "      <th>Course</th>\n",
       "      <th>Grade</th>\n",
       "      <th>Attendance</th>\n",
       "      <th>Study_Hours</th>\n",
       "    </tr>\n",
       "  </thead>\n",
       "  <tbody>\n",
       "    <tr>\n",
       "      <th>0</th>\n",
       "      <td>1</td>\n",
       "      <td>Alice</td>\n",
       "      <td>20</td>\n",
       "      <td>Female</td>\n",
       "      <td>Math</td>\n",
       "      <td>85.0</td>\n",
       "      <td>90.0</td>\n",
       "      <td>15.0</td>\n",
       "    </tr>\n",
       "    <tr>\n",
       "      <th>1</th>\n",
       "      <td>2</td>\n",
       "      <td>Bob</td>\n",
       "      <td>21</td>\n",
       "      <td>Male</td>\n",
       "      <td>Science</td>\n",
       "      <td>92.0</td>\n",
       "      <td>85.0</td>\n",
       "      <td>10.0</td>\n",
       "    </tr>\n",
       "    <tr>\n",
       "      <th>2</th>\n",
       "      <td>3</td>\n",
       "      <td>Charlie</td>\n",
       "      <td>22</td>\n",
       "      <td>Male</td>\n",
       "      <td>Engineering</td>\n",
       "      <td>78.0</td>\n",
       "      <td>95.0</td>\n",
       "      <td>20.0</td>\n",
       "    </tr>\n",
       "    <tr>\n",
       "      <th>3</th>\n",
       "      <td>4</td>\n",
       "      <td>David</td>\n",
       "      <td>23</td>\n",
       "      <td>Male</td>\n",
       "      <td>Arts</td>\n",
       "      <td>88.0</td>\n",
       "      <td>80.0</td>\n",
       "      <td>12.0</td>\n",
       "    </tr>\n",
       "    <tr>\n",
       "      <th>4</th>\n",
       "      <td>5</td>\n",
       "      <td>Eva</td>\n",
       "      <td>20</td>\n",
       "      <td>Female</td>\n",
       "      <td>Literature</td>\n",
       "      <td>91.0</td>\n",
       "      <td>88.0</td>\n",
       "      <td>18.0</td>\n",
       "    </tr>\n",
       "    <tr>\n",
       "      <th>5</th>\n",
       "      <td>6</td>\n",
       "      <td>Frank</td>\n",
       "      <td>21</td>\n",
       "      <td>Male</td>\n",
       "      <td>Math</td>\n",
       "      <td>88.0</td>\n",
       "      <td>92.0</td>\n",
       "      <td>14.0</td>\n",
       "    </tr>\n",
       "    <tr>\n",
       "      <th>6</th>\n",
       "      <td>7</td>\n",
       "      <td>Grace</td>\n",
       "      <td>22</td>\n",
       "      <td>Female</td>\n",
       "      <td>Science</td>\n",
       "      <td>80.0</td>\n",
       "      <td>90.0</td>\n",
       "      <td>16.0</td>\n",
       "    </tr>\n",
       "    <tr>\n",
       "      <th>7</th>\n",
       "      <td>8</td>\n",
       "      <td>Hannah</td>\n",
       "      <td>18</td>\n",
       "      <td>Female</td>\n",
       "      <td>Engineering</td>\n",
       "      <td>75.0</td>\n",
       "      <td>85.0</td>\n",
       "      <td>10.0</td>\n",
       "    </tr>\n",
       "    <tr>\n",
       "      <th>8</th>\n",
       "      <td>9</td>\n",
       "      <td>Ivy</td>\n",
       "      <td>20</td>\n",
       "      <td>Male</td>\n",
       "      <td>Math</td>\n",
       "      <td>89.0</td>\n",
       "      <td>90.0</td>\n",
       "      <td>15.0</td>\n",
       "    </tr>\n",
       "    <tr>\n",
       "      <th>9</th>\n",
       "      <td>10</td>\n",
       "      <td>Jack</td>\n",
       "      <td>21</td>\n",
       "      <td>Male</td>\n",
       "      <td>Literature</td>\n",
       "      <td>90.0</td>\n",
       "      <td>80.0</td>\n",
       "      <td>12.0</td>\n",
       "    </tr>\n",
       "    <tr>\n",
       "      <th>10</th>\n",
       "      <td>11</td>\n",
       "      <td>Kate</td>\n",
       "      <td>22</td>\n",
       "      <td>Female</td>\n",
       "      <td>Arts</td>\n",
       "      <td>82.0</td>\n",
       "      <td>75.0</td>\n",
       "      <td>18.0</td>\n",
       "    </tr>\n",
       "    <tr>\n",
       "      <th>11</th>\n",
       "      <td>12</td>\n",
       "      <td>Leo</td>\n",
       "      <td>23</td>\n",
       "      <td>Male</td>\n",
       "      <td>Science</td>\n",
       "      <td>87.0</td>\n",
       "      <td>85.0</td>\n",
       "      <td>14.0</td>\n",
       "    </tr>\n",
       "    <tr>\n",
       "      <th>12</th>\n",
       "      <td>13</td>\n",
       "      <td>Mia</td>\n",
       "      <td>20</td>\n",
       "      <td>Female</td>\n",
       "      <td>Math</td>\n",
       "      <td>88.0</td>\n",
       "      <td>92.0</td>\n",
       "      <td>14.5</td>\n",
       "    </tr>\n",
       "    <tr>\n",
       "      <th>13</th>\n",
       "      <td>14</td>\n",
       "      <td>Nina</td>\n",
       "      <td>20</td>\n",
       "      <td>Female</td>\n",
       "      <td>Arts</td>\n",
       "      <td>95.0</td>\n",
       "      <td>95.0</td>\n",
       "      <td>13.0</td>\n",
       "    </tr>\n",
       "    <tr>\n",
       "      <th>14</th>\n",
       "      <td>15</td>\n",
       "      <td>Oscar</td>\n",
       "      <td>21</td>\n",
       "      <td>Male</td>\n",
       "      <td>Literature</td>\n",
       "      <td>91.0</td>\n",
       "      <td>90.0</td>\n",
       "      <td>19.0</td>\n",
       "    </tr>\n",
       "    <tr>\n",
       "      <th>15</th>\n",
       "      <td>16</td>\n",
       "      <td>Paul</td>\n",
       "      <td>22</td>\n",
       "      <td>Female</td>\n",
       "      <td>Engineering</td>\n",
       "      <td>85.0</td>\n",
       "      <td>90.0</td>\n",
       "      <td>17.0</td>\n",
       "    </tr>\n",
       "    <tr>\n",
       "      <th>16</th>\n",
       "      <td>17</td>\n",
       "      <td>Quincy</td>\n",
       "      <td>19</td>\n",
       "      <td>Male</td>\n",
       "      <td>Math</td>\n",
       "      <td>87.0</td>\n",
       "      <td>82.0</td>\n",
       "      <td>15.0</td>\n",
       "    </tr>\n",
       "    <tr>\n",
       "      <th>17</th>\n",
       "      <td>18</td>\n",
       "      <td>Rachel</td>\n",
       "      <td>23</td>\n",
       "      <td>Female</td>\n",
       "      <td>Literature</td>\n",
       "      <td>93.0</td>\n",
       "      <td>90.0</td>\n",
       "      <td>14.5</td>\n",
       "    </tr>\n",
       "    <tr>\n",
       "      <th>18</th>\n",
       "      <td>19</td>\n",
       "      <td>Steve</td>\n",
       "      <td>20</td>\n",
       "      <td>Male</td>\n",
       "      <td>Science</td>\n",
       "      <td>88.0</td>\n",
       "      <td>95.0</td>\n",
       "      <td>12.0</td>\n",
       "    </tr>\n",
       "    <tr>\n",
       "      <th>19</th>\n",
       "      <td>20</td>\n",
       "      <td>Tina</td>\n",
       "      <td>21</td>\n",
       "      <td>Female</td>\n",
       "      <td>Arts</td>\n",
       "      <td>88.0</td>\n",
       "      <td>88.0</td>\n",
       "      <td>14.0</td>\n",
       "    </tr>\n",
       "  </tbody>\n",
       "</table>\n",
       "</div>"
      ],
      "text/plain": [
       "    Student_ID     Name  Age  Gender       Course  Grade  Attendance  \\\n",
       "0            1    Alice   20  Female         Math   85.0        90.0   \n",
       "1            2      Bob   21    Male      Science   92.0        85.0   \n",
       "2            3  Charlie   22    Male  Engineering   78.0        95.0   \n",
       "3            4    David   23    Male         Arts   88.0        80.0   \n",
       "4            5      Eva   20  Female   Literature   91.0        88.0   \n",
       "5            6    Frank   21    Male         Math   88.0        92.0   \n",
       "6            7    Grace   22  Female      Science   80.0        90.0   \n",
       "7            8   Hannah   18  Female  Engineering   75.0        85.0   \n",
       "8            9      Ivy   20    Male         Math   89.0        90.0   \n",
       "9           10     Jack   21    Male   Literature   90.0        80.0   \n",
       "10          11     Kate   22  Female         Arts   82.0        75.0   \n",
       "11          12      Leo   23    Male      Science   87.0        85.0   \n",
       "12          13      Mia   20  Female         Math   88.0        92.0   \n",
       "13          14     Nina   20  Female         Arts   95.0        95.0   \n",
       "14          15    Oscar   21    Male   Literature   91.0        90.0   \n",
       "15          16     Paul   22  Female  Engineering   85.0        90.0   \n",
       "16          17   Quincy   19    Male         Math   87.0        82.0   \n",
       "17          18   Rachel   23  Female   Literature   93.0        90.0   \n",
       "18          19    Steve   20    Male      Science   88.0        95.0   \n",
       "19          20     Tina   21  Female         Arts   88.0        88.0   \n",
       "\n",
       "    Study_Hours  \n",
       "0          15.0  \n",
       "1          10.0  \n",
       "2          20.0  \n",
       "3          12.0  \n",
       "4          18.0  \n",
       "5          14.0  \n",
       "6          16.0  \n",
       "7          10.0  \n",
       "8          15.0  \n",
       "9          12.0  \n",
       "10         18.0  \n",
       "11         14.0  \n",
       "12         14.5  \n",
       "13         13.0  \n",
       "14         19.0  \n",
       "15         17.0  \n",
       "16         15.0  \n",
       "17         14.5  \n",
       "18         12.0  \n",
       "19         14.0  "
      ]
     },
     "execution_count": 9,
     "metadata": {},
     "output_type": "execute_result"
    }
   ],
   "source": [
    "stud_data"
   ]
  },
  {
   "cell_type": "code",
   "execution_count": 10,
   "id": "9b09f32f-68ca-48ea-b55f-c8a79e304f38",
   "metadata": {},
   "outputs": [
    {
     "data": {
      "text/plain": [
       "Student_ID     0\n",
       "Name           0\n",
       "Age            0\n",
       "Gender         0\n",
       "Course         0\n",
       "Grade          0\n",
       "Attendance     0\n",
       "Study_Hours    0\n",
       "dtype: int64"
      ]
     },
     "execution_count": 10,
     "metadata": {},
     "output_type": "execute_result"
    }
   ],
   "source": [
    "stud_data.isnull().sum()"
   ]
  },
  {
   "cell_type": "markdown",
   "id": "95052d1c-17d8-4e69-be17-1bb51512efcc",
   "metadata": {},
   "source": [
    "#### 2. Scan all numeric variables for outliers. If there are outliers, use any of the suitable techniques to deal with them."
   ]
  },
  {
   "cell_type": "code",
   "execution_count": 11,
   "id": "365d2df8-2ba4-4dfb-83ce-5a35540ca658",
   "metadata": {},
   "outputs": [
    {
     "data": {
      "image/png": "[encoded data removed]",
      "text/plain": [
       "<Figure size 1000x600 with 1 Axes>"
      ]
     },
     "metadata": {},
     "output_type": "display_data"
    }
   ],
   "source": [
    "#box plot\n",
    "\n",
    "plt.figure(figsize=(10, 6))\n",
    "sns.boxplot(data=stud_data[['Grade', 'Attendance', 'Study_Hours' , 'Age']], palette='Set2')\n",
    "plt.title(\"Boxplot of Scores to Detect Outliers\")\n",
    "plt.show()"
   ]
  },
  {
   "cell_type": "code",
   "execution_count": 12,
   "id": "022979d6-4a62-43a6-840a-3686035e2c3e",
   "metadata": {},
   "outputs": [
    {
     "data": {
      "image/png": "[encoded data removed]",
      "text/plain": [
       "<Figure size 1000x600 with 1 Axes>"
      ]
     },
     "metadata": {},
     "output_type": "display_data"
    }
   ],
   "source": [
    "#scatterplot\n",
    "\n",
    "plt.figure(figsize=(10, 6))\n",
    "sns.scatterplot(x=stud_data['Study_Hours'], y=stud_data['Grade'], color='red')\n",
    "plt.title(\"Scatter Plot of attendence vs Grade (Outlier Detection)\")\n",
    "plt.xlabel(\"Study_Hours\")\n",
    "plt.ylabel(\"Grade\")\n",
    "plt.show()"
   ]
  },
  {
   "cell_type": "code",
   "execution_count": 13,
   "id": "b1a8ace8-f59e-4681-8b68-5db165345b3c",
   "metadata": {},
   "outputs": [],
   "source": [
    "#IQR\n",
    "\n",
    "Q1 = stud_data['Study_Hours'].quantile(0.25)\n",
    "Q3 = stud_data['Study_Hours'].quantile(0.75)\n",
    "IQR = Q3 - Q1\n",
    "lower_bound = Q1 - 1.5 * IQR\n",
    "upper_bound = Q3 + 1.5 * IQR"
   ]
  },
  {
   "cell_type": "code",
   "execution_count": 14,
   "id": "1002c112-864c-4bdc-bf2c-163ca1ebf0d2",
   "metadata": {},
   "outputs": [
    {
     "data": {
      "text/plain": [
       "7.5"
      ]
     },
     "execution_count": 14,
     "metadata": {},
     "output_type": "execute_result"
    }
   ],
   "source": [
    "lower_bound"
   ]
  },
  {
   "cell_type": "code",
   "execution_count": 15,
   "id": "f7120c78-8605-438d-8fe6-c07d2dd3e1f8",
   "metadata": {},
   "outputs": [
    {
     "data": {
      "text/plain": [
       "21.5"
      ]
     },
     "execution_count": 15,
     "metadata": {},
     "output_type": "execute_result"
    }
   ],
   "source": [
    "upper_bound"
   ]
  },
  {
   "cell_type": "code",
   "execution_count": 16,
   "id": "1b28935c-5b56-4b6e-ba0f-305d6f25554a",
   "metadata": {},
   "outputs": [
    {
     "data": {
      "text/plain": [
       "3.5"
      ]
     },
     "execution_count": 16,
     "metadata": {},
     "output_type": "execute_result"
    }
   ],
   "source": [
    "IQR"
   ]
  },
  {
   "cell_type": "markdown",
   "id": "c6d1465d-28f2-42ac-b3a2-53194167ad3f",
   "metadata": {},
   "source": [
    "#### 3. Apply data transformations on at least one of the variables. The purpose of this transformation should be one of the following reasons: to change the scale for better understanding of the variable, to convert a non-linear relation into a linear one, or to decrease the skewness and convert the distribution into a normal distribution.\n"
   ]
  },
  {
   "cell_type": "code",
   "execution_count": 17,
   "id": "e400c498-33c9-4c28-a640-128d7ad52003",
   "metadata": {},
   "outputs": [
    {
     "data": {
      "text/plain": [
       "0.16205823735454428"
      ]
     },
     "execution_count": 17,
     "metadata": {},
     "output_type": "execute_result"
    }
   ],
   "source": [
    "# Check for skewness in Study_Hours\n",
    "study_hours = stud_data['Study_Hours'].dropna()\n",
    "skewness = stats.skew(study_hours)\n",
    "\n",
    "skewness"
   ]
  },
  {
   "cell_type": "code",
   "execution_count": 18,
   "id": "7515f997-efed-4036-bd2d-a66c6dbd4c6e",
   "metadata": {},
   "outputs": [],
   "source": [
    "# For example, if skewness is positive and transformation is needed:\n",
    "\n",
    "# Square root transformation\n",
    "stud_data['Study_Hours_sqrt'] = np.sqrt(stud_data['Study_Hours'].fillna(0))\n",
    "\n",
    "# Alternatively, log transformation (make sure values > 0 by adding a small constant if needed)\n",
    "stud_data['Study_Hours_log'] = np.log(stud_data['Study_Hours'].fillna(0) + 1)  # Adding 1 to avoid log(0)"
   ]
  },
  {
   "cell_type": "code",
   "execution_count": 19,
   "id": "7ad9b0d0-812a-40ac-ace8-f285a6989263",
   "metadata": {},
   "outputs": [
    {
     "data": {
      "text/plain": [
       "(-0.032912414706404554, -0.20635352385236058)"
      ]
     },
     "execution_count": 19,
     "metadata": {},
     "output_type": "execute_result"
    }
   ],
   "source": [
    "# Check skewness after transformation\n",
    "study_hours_sqrt = stud_data['Study_Hours_sqrt']\n",
    "study_hours_log = stud_data['Study_Hours_log']\n",
    "\n",
    "# Skewness of the transformed data\n",
    "skew_sqrt = stats.skew(study_hours_sqrt)\n",
    "skew_log = stats.skew(study_hours_log)\n",
    "\n",
    "skew_sqrt, skew_log"
   ]
  },
  {
   "cell_type": "code",
   "execution_count": 26,
   "id": "4287d609-b1c8-41c2-b5cc-2091d2762e6f",
   "metadata": {},
   "outputs": [],
   "source": [
    "from scipy.stats import skew"
   ]
  },
  {
   "cell_type": "code",
   "execution_count": 27,
   "id": "9366c2a9-ad41-4d26-b934-9b5a8034c244",
   "metadata": {},
   "outputs": [],
   "source": [
    "# Calculate skewness for \"Grade\" column (excluding NaN values)\n",
    "grade_skewness = skew(stud_data[\"Grade\"].dropna())"
   ]
  },
  {
   "cell_type": "code",
   "execution_count": 28,
   "id": "27dd44f6-a55f-45fa-a319-a11e5f83c4a3",
   "metadata": {},
   "outputs": [
    {
     "data": {
      "image/png": "[encoded data removed]",
      "text/plain": [
       "<Figure size 800x500 with 1 Axes>"
      ]
     },
     "metadata": {},
     "output_type": "display_data"
    }
   ],
   "source": [
    "# Plot histogram for \"Grade\"\n",
    "plt.figure(figsize=(8, 5))\n",
    "sns.histplot(stud_data[\"Grade\"].dropna(), bins=10, kde=True, color=\"blue\", edgecolor=\"black\", alpha=0.7)\n",
    "\n",
    "# Add labels and title\n",
    "plt.xlabel(\"Grade\")\n",
    "plt.ylabel(\"Frequency\")\n",
    "plt.title(f\"Histogram of Grades (Skewness: {grade_skewness:.2f})\")\n",
    "\n",
    "# Show the plot\n",
    "plt.show()"
   ]
  },
  {
   "cell_type": "code",
   "execution_count": null,
   "id": "0e151cb2-1085-4866-9518-b074e1a31cbd",
   "metadata": {},
   "outputs": [],
   "source": []
  }
 ],
 "metadata": {
  "kernelspec": {
   "display_name": "Python 3 (ipykernel)",
   "language": "python",
   "name": "python3"
  },
  "language_info": {
   "codemirror_mode": {
    "name": "ipython",
    "version": 3
   },
   "file_extension": ".py",
   "mimetype": "text/x-python",
   "name": "python",
   "nbconvert_exporter": "python",
   "pygments_lexer": "ipython3",
   "version": "3.12.7"
  }
 },
 "nbformat": 4,
 "nbformat_minor": 5
}
